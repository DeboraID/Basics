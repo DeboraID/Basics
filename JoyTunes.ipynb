{
  "nbformat": 4,
  "nbformat_minor": 0,
  "metadata": {
    "colab": {
      "name": "@JoyTunes.ipynb",
      "version": "0.3.2",
      "provenance": [],
      "collapsed_sections": [],
      "include_colab_link": true
    },
    "kernelspec": {
      "name": "python3",
      "display_name": "Python 3"
    }
  },
  "cells": [
    {
      "cell_type": "markdown",
      "metadata": {
        "id": "view-in-github",
        "colab_type": "text"
      },
      "source": [
        "<a href=\"https://colab.research.google.com/github/DeboraID/BasicsTips-Links/blob/master/JoyTunes.ipynb\" target=\"_parent\"><img src=\"https://colab.research.google.com/assets/colab-badge.svg\" alt=\"Open In Colab\"/></a>"
      ]
    },
    {
      "metadata": {
        "id": "h0uKMvNXCg2S",
        "colab_type": "text"
      },
      "cell_type": "markdown",
      "source": [
        "# Home Assigment\n",
        "@JoyTunes"
      ]
    },
    {
      "metadata": {
        "id": "TgYcsrzXEVwF",
        "colab_type": "text"
      },
      "cell_type": "markdown",
      "source": [
        "## Import packages"
      ]
    },
    {
      "metadata": {
        "id": "4_E5jhLwEYPG",
        "colab_type": "code",
        "outputId": "279656f5-e956-4d42-e2bc-864ed0e29ced",
        "colab": {
          "base_uri": "https://localhost:8080/",
          "height": 34
        }
      },
      "cell_type": "code",
      "source": [
        "#import packeges \n",
        "import pandas as pd\n",
        "import numpy as np\n",
        "import seaborn as sns\n",
        "import matplotlib.pyplot as plt\n",
        "from datetime import datetime\n",
        "%matplotlib inline\n",
        "\n",
        "# Models\n",
        "from sklearn.model_selection import train_test_split\n",
        "from sklearn.tree import DecisionTreeClassifier\n",
        "from sklearn.ensemble import RandomForestClassifier\n",
        "from sklearn.neighbors import KNeighborsClassifier\n",
        "from sklearn.svm import SVC\n",
        "from sklearn.linear_model import LogisticRegression\n",
        "from sklearn.linear_model import ElasticNet\n",
        "from sklearn.ensemble import RandomForestRegressor\n",
        "\n",
        "#ignore warnings\n",
        "import warnings\n",
        "warnings.filterwarnings('ignore')\n",
        "print('-'*25)\n"
      ],
      "execution_count": 1,
      "outputs": [
        {
          "output_type": "stream",
          "text": [
            "-------------------------\n"
          ],
          "name": "stdout"
        }
      ]
    },
    {
      "metadata": {
        "id": "KDd4U9GiEhjL",
        "colab_type": "text"
      },
      "cell_type": "markdown",
      "source": [
        "## Upload files "
      ]
    },
    {
      "metadata": {
        "id": "PyaWR3fVEnZJ",
        "colab_type": "code",
        "outputId": "c3364b79-3608-480c-eead-d575d83fe899",
        "colab": {
          "resources": {
            "http://localhost:8080/nbextensions/google.colab/files.js": {
              "data": "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",
              "ok": true,
              "headers": [
                [
                  "content-type",
                  "application/javascript"
                ]
              ],
              "status": 200,
              "status_text": ""
            }
          },
          "base_uri": "https://localhost:8080/",
          "height": 157
        }
      },
      "cell_type": "code",
      "source": [
        "from google.colab import files\n",
        "\n",
        "uploaded = files.upload()\n",
        "\n",
        "# for fn in uploaded.keys():\n",
        "#   print('User uploaded file \"{name}\" with length {length} bytes'.format(\n",
        "#       name=fn, length=len(uploaded[fn])))"
      ],
      "execution_count": 2,
      "outputs": [
        {
          "output_type": "display_data",
          "data": {
            "text/html": [
              "\n",
              "     <input type=\"file\" id=\"files-d64bfce1-0102-4caf-a7ab-bb56aa5b867e\" name=\"files[]\" multiple disabled />\n",
              "     <output id=\"result-d64bfce1-0102-4caf-a7ab-bb56aa5b867e\">\n",
              "      Upload widget is only available when the cell has been executed in the\n",
              "      current browser session. Please rerun this cell to enable.\n",
              "      </output>\n",
              "      <script src=\"/nbextensions/google.colab/files.js\"></script> "
            ],
            "text/plain": [
              "<IPython.core.display.HTML object>"
            ]
          },
          "metadata": {
            "tags": []
          }
        },
        {
          "output_type": "stream",
          "text": [
            "Saving BI_Home_Assignment_SP_Funnels.csv to BI_Home_Assignment_SP_Funnels.csv\n",
            "Saving BI_Home_Assignment_.docx to BI_Home_Assignment_.docx\n",
            "Saving Table_1.png to Table_1.png\n"
          ],
          "name": "stdout"
        }
      ]
    },
    {
      "metadata": {
        "id": "7nlTzo5VCtuw",
        "colab_type": "text"
      },
      "cell_type": "markdown",
      "source": [
        "## Question number 1:\n",
        "\n",
        "Following is the behavior of monthly subscribers retention by month. \n",
        "% retention means how many of the active subscriber renew their subscription on the Xth months (i.e. 70% of the subscribers renew on their first renewal date after one month, then 80% of the remaining will continue to renew on the 2nd month etc.)\n",
        "\n",
        "A subscription price is $10/month.\n",
        "\n",
        "\n",
        "\n",
        "\n"
      ]
    },
    {
      "metadata": {
        "id": "jJtA0XZ_CgkJ",
        "colab_type": "code",
        "outputId": "e48b1a20-2cde-4d1c-ea0f-c01c0604cc3e",
        "colab": {
          "base_uri": "https://localhost:8080/",
          "height": 64
        }
      },
      "cell_type": "code",
      "source": [
        "from IPython.display import Image\n",
        "Image('Table_1.png')"
      ],
      "execution_count": 3,
      "outputs": [
        {
          "output_type": "execute_result",
          "data": {
            "image/png": "[encoded data removed]",
            "text/plain": [
              "<IPython.core.display.Image object>"
            ]
          },
          "metadata": {
            "tags": []
          },
          "execution_count": 3
        }
      ]
    },
    {
      "metadata": {
        "id": "H9p6zTAhHY3u",
        "colab_type": "text"
      },
      "cell_type": "markdown",
      "source": [
        "### a)\tWhy do you think the 1st month retention is the lowest?\n",
        "\n",
        "Is the first month free or the first basic sessions  free? ...so everyone starts with the lerning sessions until they need to pay, only the engaged people keep learning. It could be that the marketing dep should fine-tune the target population of the campaigns or the engagement of the first month / sessions should be improved."
      ]
    },
    {
      "metadata": {
        "id": "HLV51M41VfiX",
        "colab_type": "text"
      },
      "cell_type": "markdown",
      "source": [
        "### b)\tWhat’s the average revenue from a subscriber during his 1st year of subscription?\n",
        "\n",
        "if the first moth is free, then the average revenue from one subcriber will be :\n",
        "\n",
        "month average = (10*11)/12  monthly.\n"
      ]
    },
    {
      "metadata": {
        "id": "xBRyih0AXvgO",
        "colab_type": "text"
      },
      "cell_type": "markdown",
      "source": [
        "### c)\tMarketing dept. wants to run a campaign offering users just after they subscribe a 50% discount if they commit for a year. Would you advise for or against this plan?\n",
        "\n",
        "I'll advise to do this discount during the first month subscription in order to improve the percent renew of this period or i'll give this ind of discound to the *regular users after seeing that their usage is going down\n",
        "\n",
        "*Medium users = those ones that are more or less using the system during the first 3 month (for sure should be a way to try identify them based of their behavior)"
      ]
    },
    {
      "metadata": {
        "id": "VaMBcN9gYjt5",
        "colab_type": "text"
      },
      "cell_type": "markdown",
      "source": [
        "##  Question number 2:\n",
        "Given an sql table of soccer matches results, write an SQL query to construct the league standings. "
      ]
    },
    {
      "metadata": {
        "id": "y77vi7VZ1rWT",
        "colab_type": "text"
      },
      "cell_type": "markdown",
      "source": [
        "###Create Ranking tables by Pandas"
      ]
    },
    {
      "metadata": {
        "id": "ro6suSmMai4H",
        "colab_type": "code",
        "outputId": "b0f94014-b422-41e7-c210-d3257830f8eb",
        "colab": {
          "base_uri": "https://localhost:8080/",
          "height": 168
        }
      },
      "cell_type": "code",
      "source": [
        "####################Sorry a couldn't donwload any SQL plataform, \n",
        "####################so i'll create a pandas code and based on it the SQL query, \n",
        "####################Sorry in advance for the Spelling mistakes \n",
        "\n",
        "#create Soccer matches table by pandas\n",
        "columns = ['HomeTeam' ,\t'AwayTeam' ,\t'HomeScore'\t, 'AwayScore']\n",
        "data = [['Argentina',\t'Nigeria',\t2\t, 0 ],\n",
        "            ['Germany' ,\t'Japan',\t1,\t1 ], \n",
        "            ['Japan',\t'Argentina',\t0\t,1], \n",
        "            ['Germany',\t'Nigeria',\t2\t,3],\n",
        "            ['Nigeria',\t'Japan',\t0\t,0],\n",
        "            ['Germany',\t'Argentina',\t1\t,0]]\n",
        "\n",
        "matches = pd.DataFrame(data,columns= columns)\n",
        "matches.info()\n"
      ],
      "execution_count": 4,
      "outputs": [
        {
          "output_type": "stream",
          "text": [
            "<class 'pandas.core.frame.DataFrame'>\n",
            "RangeIndex: 6 entries, 0 to 5\n",
            "Data columns (total 4 columns):\n",
            "HomeTeam     6 non-null object\n",
            "AwayTeam     6 non-null object\n",
            "HomeScore    6 non-null int64\n",
            "AwayScore    6 non-null int64\n",
            "dtypes: int64(2), object(2)\n",
            "memory usage: 272.0+ bytes\n"
          ],
          "name": "stdout"
        }
      ]
    },
    {
      "metadata": {
        "id": "_LLrBgkxhD2o",
        "colab_type": "text"
      },
      "cell_type": "markdown",
      "source": [
        "Pointing rules:\n",
        "-\tTeam gets 3 points for a win, 1 point for tie, 0 points for loss\n",
        "-\tTeam positions determined by number of points, if tied position is determined by the better “goal difference” meaning Goals Scored minus Goals received. "
      ]
    },
    {
      "metadata": {
        "id": "v8NfpCTC8gza",
        "colab_type": "code",
        "outputId": "bae555fb-2d7d-48e6-84eb-dac590637489",
        "colab": {
          "base_uri": "https://localhost:8080/",
          "height": 225
        }
      },
      "cell_type": "code",
      "source": [
        "# adding points logict with python \n",
        "\n",
        "def calc (x,y):\n",
        "    if x > y  :\n",
        "        return 3\n",
        "    elif  x == y:\n",
        "        return 1\n",
        "    else:\n",
        "        return 0\n",
        "    \n",
        "matches['Hometeam_pointing']= matches.apply(lambda x: calc(x.HomeScore, x.AwayScore), axis=1)\n",
        "matches['Awayteam_pointing']= matches.apply(lambda x: calc(x.AwayScore, x.HomeScore), axis=1)\n",
        "\n",
        "matches\n"
      ],
      "execution_count": 7,
      "outputs": [
        {
          "output_type": "execute_result",
          "data": {
            "text/html": [
              "<div>\n",
              "<style scoped>\n",
              "    .dataframe tbody tr th:only-of-type {\n",
              "        vertical-align: middle;\n",
              "    }\n",
              "\n",
              "    .dataframe tbody tr th {\n",
              "        vertical-align: top;\n",
              "    }\n",
              "\n",
              "    .dataframe thead th {\n",
              "        text-align: right;\n",
              "    }\n",
              "</style>\n",
              "<table border=\"1\" class=\"dataframe\">\n",
              "  <thead>\n",
              "    <tr style=\"text-align: right;\">\n",
              "      <th></th>\n",
              "      <th>HomeTeam</th>\n",
              "      <th>AwayTeam</th>\n",
              "      <th>HomeScore</th>\n",
              "      <th>AwayScore</th>\n",
              "      <th>Hometeam_scoring</th>\n",
              "      <th>Awayteam_scoring</th>\n",
              "      <th>Hometeam_pointing</th>\n",
              "      <th>Awayteam_pointing</th>\n",
              "    </tr>\n",
              "  </thead>\n",
              "  <tbody>\n",
              "    <tr>\n",
              "      <th>0</th>\n",
              "      <td>Argentina</td>\n",
              "      <td>Nigeria</td>\n",
              "      <td>2</td>\n",
              "      <td>0</td>\n",
              "      <td>3</td>\n",
              "      <td>0</td>\n",
              "      <td>3</td>\n",
              "      <td>0</td>\n",
              "    </tr>\n",
              "    <tr>\n",
              "      <th>1</th>\n",
              "      <td>Germany</td>\n",
              "      <td>Japan</td>\n",
              "      <td>1</td>\n",
              "      <td>1</td>\n",
              "      <td>1</td>\n",
              "      <td>1</td>\n",
              "      <td>1</td>\n",
              "      <td>1</td>\n",
              "    </tr>\n",
              "    <tr>\n",
              "      <th>2</th>\n",
              "      <td>Japan</td>\n",
              "      <td>Argentina</td>\n",
              "      <td>0</td>\n",
              "      <td>1</td>\n",
              "      <td>0</td>\n",
              "      <td>3</td>\n",
              "      <td>0</td>\n",
              "      <td>3</td>\n",
              "    </tr>\n",
              "    <tr>\n",
              "      <th>3</th>\n",
              "      <td>Germany</td>\n",
              "      <td>Nigeria</td>\n",
              "      <td>2</td>\n",
              "      <td>3</td>\n",
              "      <td>0</td>\n",
              "      <td>3</td>\n",
              "      <td>0</td>\n",
              "      <td>3</td>\n",
              "    </tr>\n",
              "    <tr>\n",
              "      <th>4</th>\n",
              "      <td>Nigeria</td>\n",
              "      <td>Japan</td>\n",
              "      <td>0</td>\n",
              "      <td>0</td>\n",
              "      <td>1</td>\n",
              "      <td>1</td>\n",
              "      <td>1</td>\n",
              "      <td>1</td>\n",
              "    </tr>\n",
              "    <tr>\n",
              "      <th>5</th>\n",
              "      <td>Germany</td>\n",
              "      <td>Argentina</td>\n",
              "      <td>1</td>\n",
              "      <td>0</td>\n",
              "      <td>3</td>\n",
              "      <td>0</td>\n",
              "      <td>3</td>\n",
              "      <td>0</td>\n",
              "    </tr>\n",
              "  </tbody>\n",
              "</table>\n",
              "</div>"
            ],
            "text/plain": [
              "    HomeTeam   AwayTeam  HomeScore  AwayScore  Hometeam_scoring  \\\n",
              "0  Argentina    Nigeria          2          0                 3   \n",
              "1    Germany      Japan          1          1                 1   \n",
              "2      Japan  Argentina          0          1                 0   \n",
              "3    Germany    Nigeria          2          3                 0   \n",
              "4    Nigeria      Japan          0          0                 1   \n",
              "5    Germany  Argentina          1          0                 3   \n",
              "\n",
              "   Awayteam_scoring  Hometeam_pointing  Awayteam_pointing  \n",
              "0                 0                  3                  0  \n",
              "1                 1                  1                  1  \n",
              "2                 3                  0                  3  \n",
              "3                 3                  0                  3  \n",
              "4                 1                  1                  1  \n",
              "5                 0                  3                  0  "
            ]
          },
          "metadata": {
            "tags": []
          },
          "execution_count": 7
        }
      ]
    },
    {
      "metadata": {
        "id": "1kwulv_w-QnF",
        "colab_type": "code",
        "outputId": "0c5b6eab-09ad-4e9c-a080-ad02a63ba922",
        "colab": {
          "base_uri": "https://localhost:8080/",
          "height": 166
        }
      },
      "cell_type": "code",
      "source": [
        "# creating views in order to calculate the total point per country\n",
        "\n",
        "ranking= matches.groupby(['HomeTeam'])['Hometeam_pointing','HomeScore','AwayScore'].sum()\n",
        "ranking_= matches.groupby(['AwayTeam'])['Awayteam_pointing','AwayScore','HomeScore'].sum()\n",
        "\n",
        "ranking.rename(columns={'AwayScore':\"Home_recieved\"} ,inplace=True)\n",
        "ranking_.rename(columns={'HomeScore':\"Away_recieved\"} ,inplace=True)\n",
        "\n",
        "\n",
        "ranking_"
      ],
      "execution_count": 8,
      "outputs": [
        {
          "output_type": "execute_result",
          "data": {
            "text/html": [
              "<div>\n",
              "<style scoped>\n",
              "    .dataframe tbody tr th:only-of-type {\n",
              "        vertical-align: middle;\n",
              "    }\n",
              "\n",
              "    .dataframe tbody tr th {\n",
              "        vertical-align: top;\n",
              "    }\n",
              "\n",
              "    .dataframe thead th {\n",
              "        text-align: right;\n",
              "    }\n",
              "</style>\n",
              "<table border=\"1\" class=\"dataframe\">\n",
              "  <thead>\n",
              "    <tr style=\"text-align: right;\">\n",
              "      <th></th>\n",
              "      <th>Awayteam_pointing</th>\n",
              "      <th>AwayScore</th>\n",
              "      <th>Away_recieved</th>\n",
              "    </tr>\n",
              "    <tr>\n",
              "      <th>AwayTeam</th>\n",
              "      <th></th>\n",
              "      <th></th>\n",
              "      <th></th>\n",
              "    </tr>\n",
              "  </thead>\n",
              "  <tbody>\n",
              "    <tr>\n",
              "      <th>Argentina</th>\n",
              "      <td>3</td>\n",
              "      <td>1</td>\n",
              "      <td>1</td>\n",
              "    </tr>\n",
              "    <tr>\n",
              "      <th>Japan</th>\n",
              "      <td>2</td>\n",
              "      <td>1</td>\n",
              "      <td>1</td>\n",
              "    </tr>\n",
              "    <tr>\n",
              "      <th>Nigeria</th>\n",
              "      <td>3</td>\n",
              "      <td>3</td>\n",
              "      <td>4</td>\n",
              "    </tr>\n",
              "  </tbody>\n",
              "</table>\n",
              "</div>"
            ],
            "text/plain": [
              "           Awayteam_pointing  AwayScore  Away_recieved\n",
              "AwayTeam                                              \n",
              "Argentina                  3          1              1\n",
              "Japan                      2          1              1\n",
              "Nigeria                    3          3              4"
            ]
          },
          "metadata": {
            "tags": []
          },
          "execution_count": 8
        }
      ]
    },
    {
      "metadata": {
        "id": "U4nzaCZ9kqf7",
        "colab_type": "code",
        "outputId": "0fde79b9-93c9-4640-ce58-ed5e7599b80c",
        "colab": {
          "base_uri": "https://localhost:8080/",
          "height": 195
        }
      },
      "cell_type": "code",
      "source": [
        "ranking['Awayteam_pointing']= 0\n",
        "ranking['AwayScore']= 0\n",
        "ranking['Away_recieved']= 0\n",
        "ranking_.index.rename(\"HomeTeam\" ,inplace=True)\n",
        "\n",
        "ranking.update(ranking_)\n",
        "\n",
        "ranking"
      ],
      "execution_count": 11,
      "outputs": [
        {
          "output_type": "execute_result",
          "data": {
            "text/html": [
              "<div>\n",
              "<style scoped>\n",
              "    .dataframe tbody tr th:only-of-type {\n",
              "        vertical-align: middle;\n",
              "    }\n",
              "\n",
              "    .dataframe tbody tr th {\n",
              "        vertical-align: top;\n",
              "    }\n",
              "\n",
              "    .dataframe thead th {\n",
              "        text-align: right;\n",
              "    }\n",
              "</style>\n",
              "<table border=\"1\" class=\"dataframe\">\n",
              "  <thead>\n",
              "    <tr style=\"text-align: right;\">\n",
              "      <th></th>\n",
              "      <th>Hometeam_pointing</th>\n",
              "      <th>HomeScore</th>\n",
              "      <th>Home_recieved</th>\n",
              "      <th>Awayteam_pointing</th>\n",
              "      <th>AwayScore</th>\n",
              "      <th>Away_recieved</th>\n",
              "      <th>Scored</th>\n",
              "      <th>Received</th>\n",
              "    </tr>\n",
              "    <tr>\n",
              "      <th>HomeTeam</th>\n",
              "      <th></th>\n",
              "      <th></th>\n",
              "      <th></th>\n",
              "      <th></th>\n",
              "      <th></th>\n",
              "      <th></th>\n",
              "      <th></th>\n",
              "      <th></th>\n",
              "    </tr>\n",
              "  </thead>\n",
              "  <tbody>\n",
              "    <tr>\n",
              "      <th>Argentina</th>\n",
              "      <td>3</td>\n",
              "      <td>2</td>\n",
              "      <td>0</td>\n",
              "      <td>3.0</td>\n",
              "      <td>1.0</td>\n",
              "      <td>1.0</td>\n",
              "      <td>3.0</td>\n",
              "      <td>1.0</td>\n",
              "    </tr>\n",
              "    <tr>\n",
              "      <th>Germany</th>\n",
              "      <td>4</td>\n",
              "      <td>4</td>\n",
              "      <td>4</td>\n",
              "      <td>0.0</td>\n",
              "      <td>0.0</td>\n",
              "      <td>0.0</td>\n",
              "      <td>4.0</td>\n",
              "      <td>4.0</td>\n",
              "    </tr>\n",
              "    <tr>\n",
              "      <th>Japan</th>\n",
              "      <td>0</td>\n",
              "      <td>0</td>\n",
              "      <td>1</td>\n",
              "      <td>2.0</td>\n",
              "      <td>1.0</td>\n",
              "      <td>1.0</td>\n",
              "      <td>1.0</td>\n",
              "      <td>2.0</td>\n",
              "    </tr>\n",
              "    <tr>\n",
              "      <th>Nigeria</th>\n",
              "      <td>1</td>\n",
              "      <td>0</td>\n",
              "      <td>0</td>\n",
              "      <td>3.0</td>\n",
              "      <td>3.0</td>\n",
              "      <td>4.0</td>\n",
              "      <td>3.0</td>\n",
              "      <td>4.0</td>\n",
              "    </tr>\n",
              "  </tbody>\n",
              "</table>\n",
              "</div>"
            ],
            "text/plain": [
              "           Hometeam_pointing  HomeScore  Home_recieved  Awayteam_pointing  \\\n",
              "HomeTeam                                                                    \n",
              "Argentina                  3          2              0                3.0   \n",
              "Germany                    4          4              4                0.0   \n",
              "Japan                      0          0              1                2.0   \n",
              "Nigeria                    1          0              0                3.0   \n",
              "\n",
              "           AwayScore  Away_recieved  Scored  Received  \n",
              "HomeTeam                                               \n",
              "Argentina        1.0            1.0     3.0       1.0  \n",
              "Germany          0.0            0.0     4.0       4.0  \n",
              "Japan            1.0            1.0     1.0       2.0  \n",
              "Nigeria          3.0            4.0     3.0       4.0  "
            ]
          },
          "metadata": {
            "tags": []
          },
          "execution_count": 11
        }
      ]
    },
    {
      "metadata": {
        "id": "65PEjS3Carie",
        "colab_type": "code",
        "outputId": "e4bff1dd-25a9-4d21-d173-a6312ea8a6cc",
        "colab": {
          "base_uri": "https://localhost:8080/",
          "height": 195
        }
      },
      "cell_type": "code",
      "source": [
        "\n",
        "ranking['Scored'] = ranking['AwayScore'] + ranking['HomeScore']\n",
        "ranking['Received'] =ranking['Home_recieved'] + ranking['Away_recieved']\n",
        "ranking['GoalDiff'] = ranking['Scored'] - ranking['Received'] \n",
        "ranking['Points'] = (ranking['Hometeam_pointing'] + ranking['Awayteam_pointing']).astype(int)\n",
        "\n",
        "ranking.drop(columns=['Hometeam_pointing','HomeScore','Home_recieved','Awayteam_pointing','AwayScore','Away_recieved']).sort_values(by='Points', ascending=False)"
      ],
      "execution_count": 14,
      "outputs": [
        {
          "output_type": "execute_result",
          "data": {
            "text/html": [
              "<div>\n",
              "<style scoped>\n",
              "    .dataframe tbody tr th:only-of-type {\n",
              "        vertical-align: middle;\n",
              "    }\n",
              "\n",
              "    .dataframe tbody tr th {\n",
              "        vertical-align: top;\n",
              "    }\n",
              "\n",
              "    .dataframe thead th {\n",
              "        text-align: right;\n",
              "    }\n",
              "</style>\n",
              "<table border=\"1\" class=\"dataframe\">\n",
              "  <thead>\n",
              "    <tr style=\"text-align: right;\">\n",
              "      <th></th>\n",
              "      <th>Scored</th>\n",
              "      <th>Received</th>\n",
              "      <th>GoalDiff</th>\n",
              "      <th>Points</th>\n",
              "    </tr>\n",
              "    <tr>\n",
              "      <th>HomeTeam</th>\n",
              "      <th></th>\n",
              "      <th></th>\n",
              "      <th></th>\n",
              "      <th></th>\n",
              "    </tr>\n",
              "  </thead>\n",
              "  <tbody>\n",
              "    <tr>\n",
              "      <th>Argentina</th>\n",
              "      <td>3.0</td>\n",
              "      <td>1.0</td>\n",
              "      <td>2.0</td>\n",
              "      <td>6</td>\n",
              "    </tr>\n",
              "    <tr>\n",
              "      <th>Germany</th>\n",
              "      <td>4.0</td>\n",
              "      <td>4.0</td>\n",
              "      <td>0.0</td>\n",
              "      <td>4</td>\n",
              "    </tr>\n",
              "    <tr>\n",
              "      <th>Nigeria</th>\n",
              "      <td>3.0</td>\n",
              "      <td>4.0</td>\n",
              "      <td>-1.0</td>\n",
              "      <td>4</td>\n",
              "    </tr>\n",
              "    <tr>\n",
              "      <th>Japan</th>\n",
              "      <td>1.0</td>\n",
              "      <td>2.0</td>\n",
              "      <td>-1.0</td>\n",
              "      <td>2</td>\n",
              "    </tr>\n",
              "  </tbody>\n",
              "</table>\n",
              "</div>"
            ],
            "text/plain": [
              "           Scored  Received  GoalDiff  Points\n",
              "HomeTeam                                     \n",
              "Argentina     3.0       1.0       2.0       6\n",
              "Germany       4.0       4.0       0.0       4\n",
              "Nigeria       3.0       4.0      -1.0       4\n",
              "Japan         1.0       2.0      -1.0       2"
            ]
          },
          "metadata": {
            "tags": []
          },
          "execution_count": 14
        }
      ]
    },
    {
      "metadata": {
        "id": "C8KtQ8hp1VKX",
        "colab_type": "text"
      },
      "cell_type": "markdown",
      "source": [
        "###Create Ranking tables by SQL"
      ]
    },
    {
      "metadata": {
        "id": "y0eT1Q_-bYfL",
        "colab_type": "code",
        "colab": {}
      },
      "cell_type": "code",
      "source": [
        "# ######## create Ranking tables by SQL###########################################\n",
        "\n",
        "# ### adding points to the matches table baesdd on the logic################\n",
        "# Insert Into #matches\n",
        "# Select \n",
        "#   (CASE \n",
        "#     WHEN HomeScore > AwayScore THEN 3\n",
        "#     WHEN HomeScore = AwayScore THEN 1\n",
        "#     ELSE 0) as Hometeam_pointing,\n",
        "#     (CASE \n",
        "#     WHEN AwayScore > HomeScore THEN 3\n",
        "#     WHEN HomeScore = AwayScore THEN 1\n",
        "#     ELSE 0) as Awayteam_pointing\n",
        "    \n",
        "# FROM matches;\n",
        "\n",
        "# ### creating temp talbes to calculate the total pointing per country#################\n",
        "\n",
        "\n",
        "# Select HomeTeam as team , \n",
        "#       sum(Hometeam_pointing) as points,\n",
        "#       sum(HomeScore) as scored,\n",
        "#       sum(AwayScore) as recieved\n",
        "# into #temp_ranking\n",
        "# from matches\n",
        "# Group by HomeTeam\n",
        "\n",
        "\n",
        "# Select AwayTeam as team , \n",
        "#       sum(Awayteam_pointing) as points,\n",
        "#       sum(AwayScore) as scored,\n",
        "#       sum(HomeScore) as recieved\n",
        "# into #temp_ranking_\n",
        "# from matches\n",
        "# Group by AwayTeam\n",
        "\n",
        "# ##### create final table ##########################\n",
        "# Select team,\n",
        "#        sum(scored) as scored,\n",
        "#        sum(recieved) as recieved,\n",
        "#        (scored - recieved) as GoalDiff,\n",
        "#        sum(points)        \n",
        "# from (\n",
        "#     select *\n",
        "#     from #temp_ranking\n",
        "#     union all\n",
        "#     select *\n",
        "#     from #temp_ranking_\n",
        "#      ) t\n",
        "# group by team\n",
        "\n"
      ],
      "execution_count": 0,
      "outputs": []
    },
    {
      "metadata": {
        "id": "20eYxJ5v0JWs",
        "colab_type": "text"
      },
      "cell_type": "markdown",
      "source": [
        "### adding points to the matches table based on the logic\n",
        "\n",
        "Insert Into #matches\n",
        "\n",
        "Select \n",
        "\n",
        "  (CASE \n",
        "  \n",
        "    WHEN HomeScore > AwayScore THEN 3\n",
        "    WHEN HomeScore = AwayScore THEN 1\n",
        "    ELSE 0) as Hometeam_pointing,\n",
        "   (CASE \n",
        "   \n",
        "    WHEN AwayScore > HomeScore THEN 3\n",
        "    WHEN HomeScore = AwayScore THEN 1\n",
        "    ELSE 0) as Awayteam_pointing\n",
        "    \n",
        "FROM matches\n",
        "\n",
        "###creating temp tables to calculate the total pointing per country\n",
        "\n",
        "\n",
        "SELECT \n",
        "\n",
        "      HomeTeam as team , \n",
        "      sum(Hometeam_pointing) as points,\n",
        "      sum(HomeScore) as scored,\n",
        "      sum(AwayScore) as recieved\n",
        "      \n",
        "INTO #temp_ranking\n",
        "\n",
        "FROM matches\n",
        "\n",
        "Group by HomeTeam\n",
        "\n",
        "\n",
        "SELECT \n",
        "\n",
        "      AwayTeam as team , \n",
        "      sum(Awayteam_pointing) as points,\n",
        "      sum(AwayScore) as scored,\n",
        "      sum(HomeScore) as recieved\n",
        "      \n",
        "INTO #temp_ranking_\n",
        "\n",
        "FROM matches\n",
        "\n",
        "Group by AwayTeam\n",
        "\n",
        "\n",
        "### create final table \n",
        "\n",
        "SELECT\n",
        "\n",
        "       team,\n",
        "       sum(scored) as scored,\n",
        "       sum(recieved) as recieved,\n",
        "       (scored - recieved) as GoalDiff,\n",
        "       sum(points)  \n",
        "       \n",
        "FROM (\n",
        "\n",
        "    SELECT  *\n",
        "    \n",
        "    FROM #temp_ranking\n",
        "    union all\n",
        "    SELECT  *\n",
        "    \n",
        "    FROM #temp_ranking_\n",
        "         ) t\n",
        "         \n",
        "group by team"
      ]
    },
    {
      "metadata": {
        "id": "CcTeyptC1MlG",
        "colab_type": "code",
        "colab": {}
      },
      "cell_type": "code",
      "source": [
        ""
      ],
      "execution_count": 0,
      "outputs": []
    },
    {
      "metadata": {
        "id": "3dROfKG41z16",
        "colab_type": "text"
      },
      "cell_type": "markdown",
      "source": [
        "##  Question number 3:\n",
        "\n",
        "In the attached excel file are funnel figures on Simply Piano iOS, broken down by device type. The various steps of the funnel are explained in the file.\n",
        "\n",
        "Look into the data, derive 1-2 key observations / questions\n",
        "\n",
        "a)\tFor the product manager\n",
        "\n",
        "b)\tFor the acquisition manager\n",
        "\n",
        "\n",
        "Funnel steps explained:\t\n",
        "\n",
        "\n",
        "*   **new_users**\t= Number of installations\n",
        "*   **rp_users**\t= Number of \"Real Piano\" users - meaning users that completed at list one level in the game using a real piano.\n",
        "*   **rp_completed_pb1** = \tNumber of real piano users that completed \"Piano Basics 1\". This is the free course given in the app, once completing \n",
        "\tPiano Basics 1 users reach a paywall where are asked to purchase a subscription \n",
        "\tThe subscritption is yearly but also has a one week free trial period\n",
        "*   **rp_started_trial**\t = Number of users that having finished Piano Basics 1 opted in to the free trial subscription\n",
        "*   **rp_paying** = \tNumber of users that successfully finished the free trial and became paying subscribers\n",
        "*   **total_net_rev**\t = Total revenues from paying subscribers\n"
      ]
    },
    {
      "metadata": {
        "id": "eoKXmyEL1-N3",
        "colab_type": "code",
        "colab": {
          "base_uri": "https://localhost:8080/",
          "height": 218
        },
        "outputId": "4cccb434-6c1a-4922-9558-8226bd2a4719"
      },
      "cell_type": "code",
      "source": [
        "data = pd.read_csv('BI_Home_Assignment_SP_Funnels.csv',  na_values = ['no info', '.'])\n",
        "data = data.iloc[:,0:7]\n",
        "data.info()"
      ],
      "execution_count": 98,
      "outputs": [
        {
          "output_type": "stream",
          "text": [
            "<class 'pandas.core.frame.DataFrame'>\n",
            "RangeIndex: 27 entries, 0 to 26\n",
            "Data columns (total 7 columns):\n",
            "segmentation        27 non-null object\n",
            "new_users           27 non-null int64\n",
            "rp_users            27 non-null int64\n",
            "rp_completed_pb1    27 non-null int64\n",
            "rp_started_trial    27 non-null int64\n",
            "rp_paying           27 non-null int64\n",
            "total_net_rev       27 non-null object\n",
            "dtypes: int64(5), object(2)\n",
            "memory usage: 1.6+ KB\n"
          ],
          "name": "stdout"
        }
      ]
    },
    {
      "metadata": {
        "id": "c_CcqRFY5l3E",
        "colab_type": "code",
        "colab": {
          "base_uri": "https://localhost:8080/",
          "height": 354
        },
        "outputId": "66e21a55-57b7-4ab0-b655-414d1e5d8a2f"
      },
      "cell_type": "code",
      "source": [
        "grpby_seg = data.groupby(['segmentation']).sum()\n",
        "\n",
        "grpby_seg.plot.bar(stacked=True)\n"
      ],
      "execution_count": 100,
      "outputs": [
        {
          "output_type": "execute_result",
          "data": {
            "text/plain": [
              "<matplotlib.axes._subplots.AxesSubplot at 0x7fccaafe0748>"
            ]
          },
          "metadata": {
            "tags": []
          },
          "execution_count": 100
        },
        {
          "output_type": "display_data",
          "data": {
            "image/png": "[encoded data removed]",
            "text/plain": [
              "<matplotlib.figure.Figure at 0x7fccaafe0c18>"
            ]
          },
          "metadata": {
            "tags": []
          }
        }
      ]
    },
    {
      "metadata": {
        "id": "7nYuKuL_KA3q",
        "colab_type": "text"
      },
      "cell_type": "markdown",
      "source": [
        "Conclusion for acq mng = take into account the devices that are new and having a very low qty of users in general, such as \"IPhone 8\" &  \"IPhone 8 Plus\"\n"
      ]
    },
    {
      "metadata": {
        "id": "BYYw_Tyb681c",
        "colab_type": "code",
        "colab": {
          "base_uri": "https://localhost:8080/",
          "height": 846
        },
        "outputId": "b8915e44-af11-459f-aaa2-f58abede2f81"
      },
      "cell_type": "code",
      "source": [
        "### it seems that there is some kind of issue with the column's value = total_net_rev\n",
        "###so i'm going to convert this string into a number\n",
        "\n",
        "rev_num = data.drop(columns=['total_net_rev'])\n",
        "rev_num['total_net_rev_num']= data['total_net_rev'].str.split(',').str.get(0).astype('float')*1000 +\\\n",
        "                          data['total_net_rev'].str.split(',').str.get(1).fillna(0).astype('float')#split the data \n",
        "\n",
        "rev_num.sort_values(by='total_net_rev_num')"
      ],
      "execution_count": 110,
      "outputs": [
        {
          "output_type": "execute_result",
          "data": {
            "text/html": [
              "<div>\n",
              "<style scoped>\n",
              "    .dataframe tbody tr th:only-of-type {\n",
              "        vertical-align: middle;\n",
              "    }\n",
              "\n",
              "    .dataframe tbody tr th {\n",
              "        vertical-align: top;\n",
              "    }\n",
              "\n",
              "    .dataframe thead th {\n",
              "        text-align: right;\n",
              "    }\n",
              "</style>\n",
              "<table border=\"1\" class=\"dataframe\">\n",
              "  <thead>\n",
              "    <tr style=\"text-align: right;\">\n",
              "      <th></th>\n",
              "      <th>segmentation</th>\n",
              "      <th>new_users</th>\n",
              "      <th>rp_users</th>\n",
              "      <th>rp_completed_pb1</th>\n",
              "      <th>rp_started_trial</th>\n",
              "      <th>rp_paying</th>\n",
              "      <th>total_net_rev_num</th>\n",
              "    </tr>\n",
              "  </thead>\n",
              "  <tbody>\n",
              "    <tr>\n",
              "      <th>21</th>\n",
              "      <td>iPhone 5C</td>\n",
              "      <td>4377</td>\n",
              "      <td>1754</td>\n",
              "      <td>946</td>\n",
              "      <td>47</td>\n",
              "      <td>22</td>\n",
              "      <td>1438.36</td>\n",
              "    </tr>\n",
              "    <tr>\n",
              "      <th>16</th>\n",
              "      <td>iPhone 5</td>\n",
              "      <td>5939</td>\n",
              "      <td>2166</td>\n",
              "      <td>1147</td>\n",
              "      <td>63</td>\n",
              "      <td>33</td>\n",
              "      <td>1891.04</td>\n",
              "    </tr>\n",
              "    <tr>\n",
              "      <th>26</th>\n",
              "      <td>iPad Mini 3</td>\n",
              "      <td>1856</td>\n",
              "      <td>803</td>\n",
              "      <td>506</td>\n",
              "      <td>85</td>\n",
              "      <td>57</td>\n",
              "      <td>3737.58</td>\n",
              "    </tr>\n",
              "    <tr>\n",
              "      <th>20</th>\n",
              "      <td>iPhone 8</td>\n",
              "      <td>4839</td>\n",
              "      <td>1980</td>\n",
              "      <td>866</td>\n",
              "      <td>187</td>\n",
              "      <td>90</td>\n",
              "      <td>5202.60</td>\n",
              "    </tr>\n",
              "    <tr>\n",
              "      <th>23</th>\n",
              "      <td>iPhone X</td>\n",
              "      <td>3564</td>\n",
              "      <td>1230</td>\n",
              "      <td>441</td>\n",
              "      <td>189</td>\n",
              "      <td>106</td>\n",
              "      <td>6791.53</td>\n",
              "    </tr>\n",
              "    <tr>\n",
              "      <th>18</th>\n",
              "      <td>iPhone 8 Plus</td>\n",
              "      <td>5465</td>\n",
              "      <td>2066</td>\n",
              "      <td>967</td>\n",
              "      <td>242</td>\n",
              "      <td>113</td>\n",
              "      <td>7769.31</td>\n",
              "    </tr>\n",
              "    <tr>\n",
              "      <th>12</th>\n",
              "      <td>iPhone 6 Plus</td>\n",
              "      <td>9211</td>\n",
              "      <td>3292</td>\n",
              "      <td>1718</td>\n",
              "      <td>290</td>\n",
              "      <td>150</td>\n",
              "      <td>8906.62</td>\n",
              "    </tr>\n",
              "    <tr>\n",
              "      <th>24</th>\n",
              "      <td>iPad Pro 10.5</td>\n",
              "      <td>2842</td>\n",
              "      <td>1007</td>\n",
              "      <td>590</td>\n",
              "      <td>221</td>\n",
              "      <td>151</td>\n",
              "      <td>9699.68</td>\n",
              "    </tr>\n",
              "    <tr>\n",
              "      <th>14</th>\n",
              "      <td>iPad 2</td>\n",
              "      <td>7648</td>\n",
              "      <td>2977</td>\n",
              "      <td>1868</td>\n",
              "      <td>242</td>\n",
              "      <td>152</td>\n",
              "      <td>10241.96</td>\n",
              "    </tr>\n",
              "    <tr>\n",
              "      <th>15</th>\n",
              "      <td>iPad Mini 4</td>\n",
              "      <td>6132</td>\n",
              "      <td>2408</td>\n",
              "      <td>1393</td>\n",
              "      <td>245</td>\n",
              "      <td>171</td>\n",
              "      <td>11280.91</td>\n",
              "    </tr>\n",
              "    <tr>\n",
              "      <th>17</th>\n",
              "      <td>iPad 3</td>\n",
              "      <td>5807</td>\n",
              "      <td>2173</td>\n",
              "      <td>1393</td>\n",
              "      <td>228</td>\n",
              "      <td>160</td>\n",
              "      <td>11324.61</td>\n",
              "    </tr>\n",
              "    <tr>\n",
              "      <th>11</th>\n",
              "      <td>iPad Mini</td>\n",
              "      <td>10513</td>\n",
              "      <td>4778</td>\n",
              "      <td>2938</td>\n",
              "      <td>300</td>\n",
              "      <td>203</td>\n",
              "      <td>12838.85</td>\n",
              "    </tr>\n",
              "    <tr>\n",
              "      <th>13</th>\n",
              "      <td>iPad 4</td>\n",
              "      <td>8120</td>\n",
              "      <td>3096</td>\n",
              "      <td>1914</td>\n",
              "      <td>269</td>\n",
              "      <td>200</td>\n",
              "      <td>13343.36</td>\n",
              "    </tr>\n",
              "    <tr>\n",
              "      <th>22</th>\n",
              "      <td>iPad Pro</td>\n",
              "      <td>3987</td>\n",
              "      <td>1358</td>\n",
              "      <td>827</td>\n",
              "      <td>310</td>\n",
              "      <td>211</td>\n",
              "      <td>15137.45</td>\n",
              "    </tr>\n",
              "    <tr>\n",
              "      <th>19</th>\n",
              "      <td>iPad Pro 9.7</td>\n",
              "      <td>5290</td>\n",
              "      <td>1869</td>\n",
              "      <td>1087</td>\n",
              "      <td>306</td>\n",
              "      <td>230</td>\n",
              "      <td>15309.17</td>\n",
              "    </tr>\n",
              "    <tr>\n",
              "      <th>3</th>\n",
              "      <td>iPhone 5S</td>\n",
              "      <td>23624</td>\n",
              "      <td>10038</td>\n",
              "      <td>5625</td>\n",
              "      <td>527</td>\n",
              "      <td>256</td>\n",
              "      <td>15483.16</td>\n",
              "    </tr>\n",
              "    <tr>\n",
              "      <th>9</th>\n",
              "      <td>iPhone 6S Plus</td>\n",
              "      <td>13345</td>\n",
              "      <td>4683</td>\n",
              "      <td>2463</td>\n",
              "      <td>468</td>\n",
              "      <td>259</td>\n",
              "      <td>16527.68</td>\n",
              "    </tr>\n",
              "    <tr>\n",
              "      <th>10</th>\n",
              "      <td>iPad 5</td>\n",
              "      <td>11188</td>\n",
              "      <td>3773</td>\n",
              "      <td>2268</td>\n",
              "      <td>443</td>\n",
              "      <td>289</td>\n",
              "      <td>18043.65</td>\n",
              "    </tr>\n",
              "    <tr>\n",
              "      <th>8</th>\n",
              "      <td>iPad Mini 2</td>\n",
              "      <td>13699</td>\n",
              "      <td>5888</td>\n",
              "      <td>3476</td>\n",
              "      <td>430</td>\n",
              "      <td>285</td>\n",
              "      <td>18254.07</td>\n",
              "    </tr>\n",
              "    <tr>\n",
              "      <th>4</th>\n",
              "      <td>iPhone SE</td>\n",
              "      <td>20686</td>\n",
              "      <td>8836</td>\n",
              "      <td>4843</td>\n",
              "      <td>651</td>\n",
              "      <td>349</td>\n",
              "      <td>21791.73</td>\n",
              "    </tr>\n",
              "    <tr>\n",
              "      <th>7</th>\n",
              "      <td>iPad Air</td>\n",
              "      <td>13883</td>\n",
              "      <td>5520</td>\n",
              "      <td>3429</td>\n",
              "      <td>557</td>\n",
              "      <td>406</td>\n",
              "      <td>26534.75</td>\n",
              "    </tr>\n",
              "    <tr>\n",
              "      <th>6</th>\n",
              "      <td>iPhone 7 Plus</td>\n",
              "      <td>20099</td>\n",
              "      <td>6937</td>\n",
              "      <td>2652</td>\n",
              "      <td>821</td>\n",
              "      <td>443</td>\n",
              "      <td>27473.31</td>\n",
              "    </tr>\n",
              "    <tr>\n",
              "      <th>2</th>\n",
              "      <td>iPhone 7</td>\n",
              "      <td>31848</td>\n",
              "      <td>12897</td>\n",
              "      <td>5276</td>\n",
              "      <td>1144</td>\n",
              "      <td>575</td>\n",
              "      <td>37162.85</td>\n",
              "    </tr>\n",
              "    <tr>\n",
              "      <th>1</th>\n",
              "      <td>iPhone 6</td>\n",
              "      <td>35512</td>\n",
              "      <td>14647</td>\n",
              "      <td>7883</td>\n",
              "      <td>1124</td>\n",
              "      <td>591</td>\n",
              "      <td>37171.86</td>\n",
              "    </tr>\n",
              "    <tr>\n",
              "      <th>5</th>\n",
              "      <td>iPad Air 2</td>\n",
              "      <td>20366</td>\n",
              "      <td>7552</td>\n",
              "      <td>4506</td>\n",
              "      <td>902</td>\n",
              "      <td>607</td>\n",
              "      <td>41504.09</td>\n",
              "    </tr>\n",
              "    <tr>\n",
              "      <th>0</th>\n",
              "      <td>iPhone 6S</td>\n",
              "      <td>40097</td>\n",
              "      <td>16831</td>\n",
              "      <td>9144</td>\n",
              "      <td>1540</td>\n",
              "      <td>806</td>\n",
              "      <td>49252.83</td>\n",
              "    </tr>\n",
              "    <tr>\n",
              "      <th>25</th>\n",
              "      <td>iPhone 4S</td>\n",
              "      <td>2782</td>\n",
              "      <td>1062</td>\n",
              "      <td>605</td>\n",
              "      <td>23</td>\n",
              "      <td>9</td>\n",
              "      <td>553950.00</td>\n",
              "    </tr>\n",
              "  </tbody>\n",
              "</table>\n",
              "</div>"
            ],
            "text/plain": [
              "      segmentation  new_users  rp_users  rp_completed_pb1  rp_started_trial  \\\n",
              "21       iPhone 5C       4377      1754               946                47   \n",
              "16        iPhone 5       5939      2166              1147                63   \n",
              "26     iPad Mini 3       1856       803               506                85   \n",
              "20        iPhone 8       4839      1980               866               187   \n",
              "23        iPhone X       3564      1230               441               189   \n",
              "18   iPhone 8 Plus       5465      2066               967               242   \n",
              "12   iPhone 6 Plus       9211      3292              1718               290   \n",
              "24   iPad Pro 10.5       2842      1007               590               221   \n",
              "14          iPad 2       7648      2977              1868               242   \n",
              "15     iPad Mini 4       6132      2408              1393               245   \n",
              "17          iPad 3       5807      2173              1393               228   \n",
              "11       iPad Mini      10513      4778              2938               300   \n",
              "13          iPad 4       8120      3096              1914               269   \n",
              "22        iPad Pro       3987      1358               827               310   \n",
              "19    iPad Pro 9.7       5290      1869              1087               306   \n",
              "3        iPhone 5S      23624     10038              5625               527   \n",
              "9   iPhone 6S Plus      13345      4683              2463               468   \n",
              "10          iPad 5      11188      3773              2268               443   \n",
              "8      iPad Mini 2      13699      5888              3476               430   \n",
              "4        iPhone SE      20686      8836              4843               651   \n",
              "7         iPad Air      13883      5520              3429               557   \n",
              "6    iPhone 7 Plus      20099      6937              2652               821   \n",
              "2         iPhone 7      31848     12897              5276              1144   \n",
              "1         iPhone 6      35512     14647              7883              1124   \n",
              "5       iPad Air 2      20366      7552              4506               902   \n",
              "0        iPhone 6S      40097     16831              9144              1540   \n",
              "25       iPhone 4S       2782      1062               605                23   \n",
              "\n",
              "    rp_paying  total_net_rev_num  \n",
              "21         22            1438.36  \n",
              "16         33            1891.04  \n",
              "26         57            3737.58  \n",
              "20         90            5202.60  \n",
              "23        106            6791.53  \n",
              "18        113            7769.31  \n",
              "12        150            8906.62  \n",
              "24        151            9699.68  \n",
              "14        152           10241.96  \n",
              "15        171           11280.91  \n",
              "17        160           11324.61  \n",
              "11        203           12838.85  \n",
              "13        200           13343.36  \n",
              "22        211           15137.45  \n",
              "19        230           15309.17  \n",
              "3         256           15483.16  \n",
              "9         259           16527.68  \n",
              "10        289           18043.65  \n",
              "8         285           18254.07  \n",
              "4         349           21791.73  \n",
              "7         406           26534.75  \n",
              "6         443           27473.31  \n",
              "2         575           37162.85  \n",
              "1         591           37171.86  \n",
              "5         607           41504.09  \n",
              "0         806           49252.83  \n",
              "25          9          553950.00  "
            ]
          },
          "metadata": {
            "tags": []
          },
          "execution_count": 110
        }
      ]
    },
    {
      "metadata": {
        "id": "9-NQpte7J1C8",
        "colab_type": "code",
        "colab": {
          "base_uri": "https://localhost:8080/",
          "height": 366
        },
        "outputId": "c06bc95a-641f-4d5d-b9a5-c3b03a3af505"
      },
      "cell_type": "code",
      "source": [
        "rev_num.plot(subplots =True, legend =True)"
      ],
      "execution_count": 120,
      "outputs": [
        {
          "output_type": "execute_result",
          "data": {
            "text/plain": [
              "array([<matplotlib.axes._subplots.AxesSubplot object at 0x7fccaae7efd0>,\n",
              "       <matplotlib.axes._subplots.AxesSubplot object at 0x7fccaa764208>,\n",
              "       <matplotlib.axes._subplots.AxesSubplot object at 0x7fccaa718710>,\n",
              "       <matplotlib.axes._subplots.AxesSubplot object at 0x7fccaa6d7198>,\n",
              "       <matplotlib.axes._subplots.AxesSubplot object at 0x7fccaa6ecc18>,\n",
              "       <matplotlib.axes._subplots.AxesSubplot object at 0x7fccaa6eceb8>],\n",
              "      dtype=object)"
            ]
          },
          "metadata": {
            "tags": []
          },
          "execution_count": 120
        },
        {
          "output_type": "display_data",
          "data": {
            "image/png": "[encoded data removed]",
            "text/plain": [
              "<matplotlib.figure.Figure at 0x7fccaa83a860>"
            ]
          },
          "metadata": {
            "tags": []
          }
        }
      ]
    },
    {
      "metadata": {
        "id": "Ii8XZxL5_4jM",
        "colab_type": "code",
        "colab": {
          "base_uri": "https://localhost:8080/",
          "height": 77
        },
        "outputId": "978d1fe0-fdef-4e34-b970-3c53596abc6d"
      },
      "cell_type": "code",
      "source": [
        "rev_num.iloc[25:26]"
      ],
      "execution_count": 121,
      "outputs": [
        {
          "output_type": "execute_result",
          "data": {
            "text/html": [
              "<div>\n",
              "<style scoped>\n",
              "    .dataframe tbody tr th:only-of-type {\n",
              "        vertical-align: middle;\n",
              "    }\n",
              "\n",
              "    .dataframe tbody tr th {\n",
              "        vertical-align: top;\n",
              "    }\n",
              "\n",
              "    .dataframe thead th {\n",
              "        text-align: right;\n",
              "    }\n",
              "</style>\n",
              "<table border=\"1\" class=\"dataframe\">\n",
              "  <thead>\n",
              "    <tr style=\"text-align: right;\">\n",
              "      <th></th>\n",
              "      <th>segmentation</th>\n",
              "      <th>new_users</th>\n",
              "      <th>rp_users</th>\n",
              "      <th>rp_completed_pb1</th>\n",
              "      <th>rp_started_trial</th>\n",
              "      <th>rp_paying</th>\n",
              "      <th>total_net_rev_num</th>\n",
              "    </tr>\n",
              "  </thead>\n",
              "  <tbody>\n",
              "    <tr>\n",
              "      <th>25</th>\n",
              "      <td>iPhone 4S</td>\n",
              "      <td>2782</td>\n",
              "      <td>1062</td>\n",
              "      <td>605</td>\n",
              "      <td>23</td>\n",
              "      <td>9</td>\n",
              "      <td>553950.0</td>\n",
              "    </tr>\n",
              "  </tbody>\n",
              "</table>\n",
              "</div>"
            ],
            "text/plain": [
              "   segmentation  new_users  rp_users  rp_completed_pb1  rp_started_trial  \\\n",
              "25    iPhone 4S       2782      1062               605                23   \n",
              "\n",
              "    rp_paying  total_net_rev_num  \n",
              "25          9           553950.0  "
            ]
          },
          "metadata": {
            "tags": []
          },
          "execution_count": 121
        }
      ]
    },
    {
      "metadata": {
        "id": "l_PpSplaIRt0",
        "colab_type": "text"
      },
      "cell_type": "markdown",
      "source": [
        "Conclusion for prd mng = they are very old users or the owner of the company found a good way to increa the expences ...(just joking :) )"
      ]
    },
    {
      "metadata": {
        "id": "892IQplqLwGc",
        "colab_type": "code",
        "colab": {}
      },
      "cell_type": "code",
      "source": [
        ""
      ],
      "execution_count": 0,
      "outputs": []
    }
  ]
}