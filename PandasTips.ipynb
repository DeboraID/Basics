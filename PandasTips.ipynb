{
  "nbformat": 4,
  "nbformat_minor": 0,
  "metadata": {
    "colab": {
      "name": "PandasTips.ipynb",
      "version": "0.3.2",
      "provenance": [],
      "include_colab_link": true
    },
    "kernelspec": {
      "name": "python3",
      "display_name": "Python 3"
    }
  },
  "cells": [
    {
      "cell_type": "markdown",
      "metadata": {
        "id": "view-in-github",
        "colab_type": "text"
      },
      "source": [
        "[View in Colaboratory](https://colab.research.google.com/github/DeboraID/BasicsDFTips/blob/master/PandasTips.ipynb)"
      ]
    },
    {
      "metadata": {
        "id": "LNR89vpLD1zr",
        "colab_type": "code",
        "colab": {}
      },
      "cell_type": "code",
      "source": [
        "import pandas as pd\n",
        "import matplotlib.pyplot as plt\n",
        "import numpy as np\n",
        "%matplotlib inline\n"
      ],
      "execution_count": 0,
      "outputs": []
    },
    {
      "metadata": {
        "id": "AwAuGX-JFPyd",
        "colab_type": "code",
        "colab": {}
      },
      "cell_type": "code",
      "source": [
        "# # Create Series\n",
        "\n",
        "# cities_list = ['Beer Sheba', 'Tel Aviv', 'Haifa', 'Rishon LeZion', 'Beersheba', \n",
        "#                'Herzliya', 'Tal-Aviv', 'Rishon-Lezion', 'Jerusalem', 'Petach-Tikva',\n",
        "#                'Petach Tikva', 'Rishon-LeZion', 'Telaviv', 'Beer-7', 'Tel-Aviv',\n",
        "#                'Jerusalem', 'Haifa', 'Rishon LeZion', 'Beer-Sheba', 'Tel-Aviv']\n",
        "\n",
        "# # cities = np.random.choice(cities_list, size=25)\n",
        "\n",
        "# names_list = ['Alon', 'Ari','Barak', 'Itamar','Yarden','Ofer', 'Liran',\n",
        "#               'Oren', 'Ron','Shachar','Shalom','Tal', 'Yosi', 'Tomer',\n",
        "#               'Nir', 'Yaniv', 'Maor', 'Guy', 'Nir', 'Yosi']\n",
        "# # names = np.random.choice(names_list, size=25)\n",
        "\n",
        "# # print(len(cities_list), len(names_list))\n",
        "\n",
        "# dudes_cities = pd.Series(data=cities_list, index=names_list)\n",
        "# # print(dudes_cities)\n"
      ],
      "execution_count": 0,
      "outputs": []
    },
    {
      "metadata": {
        "id": "OLnGbbsQEg0D",
        "colab_type": "text"
      },
      "cell_type": "markdown",
      "source": [
        "### Loc & iLoc"
      ]
    },
    {
      "metadata": {
        "id": "KFLABybdEFV7",
        "colab_type": "code",
        "colab": {}
      },
      "cell_type": "code",
      "source": [
        "#- Label-based indexing\n",
        "# print (dudes_cities.loc['Nir'] #brings al the \"Nir's\" rows)\n",
        "# print (dudes_cities.loc[['Liran', 'Nir', 'Guy']])\n",
        "# single_row = df.loc[2, :]\n",
        "\n",
        "# Integer-location-based\n",
        "# print(dudes_cities.iloc[1]) #brings al the index-1 row\n",
        "# print(dudes_cities.iloc[[0, 2]])\n"
      ],
      "execution_count": 0,
      "outputs": []
    },
    {
      "metadata": {
        "id": "fJ6t7LLsMVNJ",
        "colab_type": "text"
      },
      "cell_type": "markdown",
      "source": [
        "### Usefull func"
      ]
    },
    {
      "metadata": {
        "id": "e-_kfLugFrlN",
        "colab_type": "text"
      },
      "cell_type": "markdown",
      "source": [
        "**value_counts()**\n",
        "These method returns a new series instance in which the unique elements of the calling object are the index elements, and the values are their corresponding counts."
      ]
    },
    {
      "metadata": {
        "id": "QFcpxZMAEfGX",
        "colab_type": "code",
        "colab": {}
      },
      "cell_type": "code",
      "source": [
        "# dudes_cities.value_counts().head(5)"
      ],
      "execution_count": 0,
      "outputs": []
    },
    {
      "metadata": {
        "id": "iq5jU1uOFyFT",
        "colab_type": "code",
        "colab": {}
      },
      "cell_type": "code",
      "source": [
        "#another important methods : .index/values/replace()/unique()/nunique()/srt.len()/sort_values()/describe()\n",
        "# code samples for str\n",
        "# print(dudes_cities.str.endswith('a'))\n",
        "# print(dudes_cities.str.replace('Sheba', 'Sheva'))\n",
        "# dudes_cities = dudes_cities.astype('category') -- while category is another list of days and no specified instance"
      ],
      "execution_count": 0,
      "outputs": []
    },
    {
      "metadata": {
        "id": "Aog0XaZ8MpCs",
        "colab_type": "code",
        "colab": {}
      },
      "cell_type": "code",
      "source": [
        "# df.rename(columns={col:col.replace('.','_') for col in df.columns}, inplace=True)\n",
        "# df.columns"
      ],
      "execution_count": 0,
      "outputs": []
    },
    {
      "metadata": {
        "id": "IyAZLpcYGOrB",
        "colab_type": "code",
        "colab": {}
      },
      "cell_type": "code",
      "source": [
        "#Categories for specified\n",
        "\n",
        "from pandas.api.types import CategoricalDtype\n",
        "# days_values = ['Sunday', 'Monday', 'Tuesday', 'Wednesday', 'Thursday', 'Friday', 'Saturday']\n",
        "# days_cat_type = CategoricalDtype(categories=days_values, ordered=True)\n",
        "\n",
        "# print(type(days_cat_type))\n",
        "# print(events.cat.codes) # as accessor "
      ],
      "execution_count": 0,
      "outputs": []
    },
    {
      "metadata": {
        "id": "u_qfQ3xyI_iT",
        "colab_type": "text"
      },
      "cell_type": "markdown",
      "source": [
        "###Query & Filters"
      ]
    },
    {
      "metadata": {
        "id": "QEHcqKV-JNJM",
        "colab_type": "code",
        "colab": {}
      },
      "cell_type": "code",
      "source": [
        "# df_travels.loc[(df_travels.From == 'Center') & (df_travels.To == 'West')]\n",
        "\n",
        "# is_night = (travelsCW['Tstart'].dt.hour < 6) & (travelsCW['Tstop'].dt.hour < 6)\n",
        "# night_travelsCW = travelsCW.loc[is_night]\n",
        "# night_travelsCW.head()\n",
        "# df_names[df_names.year == 1880].tail()\n",
        "# df_boys = df_names[df_names.sex == 'boy']\n",
        "\n",
        "# Filters - in order to keep working on the same pd\n",
        "# df_crimes = df_crimes.groupby('Category').filter(lambda grp: len(grp)>100)\n"
      ],
      "execution_count": 0,
      "outputs": []
    },
    {
      "metadata": {
        "id": "4d6KdpxwKG9_",
        "colab_type": "text"
      },
      "cell_type": "markdown",
      "source": [
        "###"
      ]
    },
    {
      "metadata": {
        "id": "3yb0VB0hKH82",
        "colab_type": "code",
        "colab": {}
      },
      "cell_type": "code",
      "source": [
        ""
      ],
      "execution_count": 0,
      "outputs": []
    },
    {
      "metadata": {
        "id": "1DroZSdONHQW",
        "colab_type": "text"
      },
      "cell_type": "markdown",
      "source": [
        "###Basic Graph"
      ]
    },
    {
      "metadata": {
        "id": "79avBqBGNLYw",
        "colab_type": "code",
        "colab": {}
      },
      "cell_type": "code",
      "source": [
        "# Maplot\n",
        "\n",
        "# data.plot(kind='hist', title='XXXX', color='red') -- one paramete\n",
        "\n",
        "# df_dessert.groupby('num.of.guests')[['dessert', 'not.dessert']].sum().plot(kind='bar') -- two paramtes \n",
        "\n",
        "\n",
        "###############################long way######################333\n",
        "# #create the df\n",
        "# boys_diversity = df_boys.groupby('year').apply(get_diversity)\n",
        "# girl_diversity = df_girls.groupby('year').apply(get_diversity)\n",
        "# #create the plot separated \n",
        "# boys_diversity.plot(linewidth=3)\n",
        "# girl_diversity.plot(linewidth=3)\n",
        "# #union the data plot\n",
        "# plt.legend(['boys', 'girls'], loc='best')"
      ],
      "execution_count": 0,
      "outputs": []
    },
    {
      "metadata": {
        "id": "J9VXKWVwPlJ4",
        "colab_type": "code",
        "colab": {}
      },
      "cell_type": "code",
      "source": [
        "# #Seaborn\n",
        "# import seaborn as sns\n",
        "\n",
        "# #data visialization with heatmap() method.\n",
        "# fig = plt.figure(figsize=(15, 15))\n",
        "# ax = fig.gca()\n",
        "# sns.heatmap(ax=ax, data=tt_vs_dd, \n",
        "#             linecolor='lightgrey', linewidths=.5, cmap='coolwarm')\n",
        "\n",
        "#boxplot\n",
        "# ax = pf.boxplot(\n",
        "#     by='column', figsize=(14,8), return_type='axes', whis=3) #whis=1.5 generate too many outliers\n",
        "# ax.iloc[0].set_ylim(0,150) -- to applicable for evry sample"
      ],
      "execution_count": 0,
      "outputs": []
    }
  ]
}